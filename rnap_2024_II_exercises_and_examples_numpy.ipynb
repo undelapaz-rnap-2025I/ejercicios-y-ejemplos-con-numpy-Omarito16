{
  "cells": [
    {
      "cell_type": "markdown",
      "metadata": {
        "id": "z9dathS_lkMu"
      },
      "source": [
        "# Cuaderno Redes Neuronales 2025-1\n"
      ]
    },
    {
      "cell_type": "markdown",
      "metadata": {},
      "source": [
        "####  Estudiante: Omar Rodriguez Tolosa\n",
        "###### Este cuaderno corresponde al desarrollo de actividades, ejercicios y proyectos relacionados con la materia de Redes Neuronales, en el marco del estudio de modelos de aprendizaje automático inspirados en el funcionamiento del cerebro humano. A lo largo de este espacio se explorarán los conceptos fundamentales de las redes neuronales artificiales, su estructura, entrenamiento y aplicaciones. Además, se implementarán ejemplos prácticos utilizando bibliotecas como NumPy, TensorFlow y/o PyTorch, con el fin de afianzar el aprendizaje y demostrar el potencial de estos modelos en tareas de clasificación, regresión y reconocimiento de patrones.\n"
      ]
    },
    {
      "cell_type": "markdown",
      "metadata": {},
      "source": [
        "# TALLER 1"
      ]
    },
    {
      "cell_type": "markdown",
      "metadata": {},
      "source": [
        "### 1 Examples: NumPy"
      ]
    },
    {
      "cell_type": "markdown",
      "metadata": {},
      "source": [
        "## Basic Indexer:"
      ]
    },
    {
      "cell_type": "markdown",
      "metadata": {},
      "source": [
        "Ejemplo 1 Basic Indexing: Usamos el comando `arr[2]` para acceder a una posición de un vector, matriz, lista etc."
      ]
    },
    {
      "cell_type": "code",
      "execution_count": 36,
      "metadata": {
        "id": "JrciqVNelazN"
      },
      "outputs": [
        {
          "name": "stdout",
          "output_type": "stream",
          "text": [
            "30\n"
          ]
        }
      ],
      "source": [
        "import numpy as np\n",
        "import matplotlib.pyplot as plt\n",
        "arr = np.array([10, 20, 30, 40, 50])\n",
        "print(arr[2]) # Output: 30"
      ]
    },
    {
      "cell_type": "markdown",
      "metadata": {},
      "source": [
        "## Slicing:"
      ]
    },
    {
      "cell_type": "markdown",
      "metadata": {},
      "source": [
        "Ejemplo 2. Se usa el `.array` para crear una matriz o vector seguido de \"[se incluyen los valores]\"  y se usa el comando `arr[1:4]` para acceder a las posiciones dentro de un rango sin tomar en cuenta la posición final. en este caso la posIción 4, es decir solo muestra el valor hasta la 3"
      ]
    },
    {
      "cell_type": "code",
      "execution_count": 37,
      "metadata": {},
      "outputs": [
        {
          "name": "stdout",
          "output_type": "stream",
          "text": [
            "[20 30 40]\n"
          ]
        }
      ],
      "source": [
        "#Slicing:\n",
        "arr = np.array([10, 20, 30, 40, 50])\n",
        "print(arr[1:4]) # Output: [20 30 40]"
      ]
    },
    {
      "cell_type": "markdown",
      "metadata": {},
      "source": [
        "## Indexings en arreglos en 2D:"
      ]
    },
    {
      "cell_type": "markdown",
      "metadata": {},
      "source": [
        "Ejemplo 3. Usamos el `.array` para crear la matriz seguido de \"[se incluyen los valores]\" y se usa el comando `arr[1,2]` para hacer una busqueda indicando el primer valor la fila y el segundo la columna el valor que se repita al selecionar esos dos conjuntos de valores es el resultado a imprimir"
      ]
    },
    {
      "cell_type": "code",
      "execution_count": 38,
      "metadata": {},
      "outputs": [
        {
          "name": "stdout",
          "output_type": "stream",
          "text": [
            "6\n"
          ]
        }
      ],
      "source": [
        "#Indexing 2D Arrays:\n",
        "arr = np.array([[1, 2, 3], [4, 5, 6], [7, 8, 9]])\n",
        "print(arr[1, 2]) # Output: 6"
      ]
    },
    {
      "cell_type": "markdown",
      "metadata": {},
      "source": [
        "## Slicing en un 2D array:"
      ]
    },
    {
      "cell_type": "markdown",
      "metadata": {},
      "source": [
        "Ejemplo 4. Con ete sucede lo mismo de buscar posiciones solo que al colocar `arr[:2, 1:]` lo que hacemos es filtar conjuntos de valores es decir si tenemos `\":2\"` se va a leer todas las filas que esten antes de esta es decir la `1` y `0`; Para el caso de `\"1:\"` se toman los valores de la columnas despues de la numero 1 "
      ]
    },
    {
      "cell_type": "code",
      "execution_count": 39,
      "metadata": {},
      "outputs": [
        {
          "name": "stdout",
          "output_type": "stream",
          "text": [
            "[[2 3]\n",
            " [5 6]]\n"
          ]
        }
      ],
      "source": [
        "#Slicing 2D Arrays:\n",
        "arr = np.array([[1, 2, 3], [4, 5, 6], [7, 8, 9]])\n",
        "print(arr[:2, 1:]) # Output: [[2 3] [5 6]]"
      ]
    },
    {
      "cell_type": "markdown",
      "metadata": {},
      "source": [
        "## Indexing pero en Tensores 3D:"
      ]
    },
    {
      "cell_type": "markdown",
      "metadata": {},
      "source": [
        "Ejemplo 5.  Se crean distintas matrices y con el comando `tensor[1, 0, 2]` accedemos a la matriz que se quiere seleccionar, accedemos a la fila y accedemos a la columna respectivamente y con el siguiente comando `tensor[1]` accedo a la matriz que deseo. podemos mirar cada matriz como si fueran un bloque para verlo de mejor manera es decir mi primer valor del comando me identifica el bloque(la matriz), el segundo la fila y el tercero la columna el valor que se repita en esas dos operaciones es el que se selecciona."
      ]
    },
    {
      "cell_type": "code",
      "execution_count": 40,
      "metadata": {},
      "outputs": [
        {
          "name": "stdout",
          "output_type": "stream",
          "text": [
            "9\n",
            "[[ 7  8  9]\n",
            " [10 11 12]]\n"
          ]
        }
      ],
      "source": [
        "#3D Tensor Indexing:\n",
        "tensor = np.array([[[1, 2, 3], [4, 5, 6]],\n",
        "[[7, 8, 9], [10, 11, 12]],\n",
        "[[13, 14, 15], [16, 17, 18]]])\n",
        "\n",
        "# Access specific elements\n",
        "print(tensor[1, 0, 2]) # Output: 9\n",
        "# Access an entire \"slice\" (2D submatrix)\n",
        "print(tensor[1]) # Output: [[ 7 8 9] [10 11 12]]"
      ]
    },
    {
      "cell_type": "markdown",
      "metadata": {},
      "source": [
        "## Slicing en Tensor 3D:\n"
      ]
    },
    {
      "cell_type": "markdown",
      "metadata": {},
      "source": [
        "Ejemplo 6. Se crea una matriz pero en este caso se le asignan valores con el comando `.arange(\"numero hasta el cual se va a llenar la matriz\")` y el comando `reshape(3, 3, 3)` es para indicar la cantidad de bloques (matrices), filas y columnas respectivamente. y con los comandos `tensor[:, 1, :]` y `tensor[:, :, 2]`accedo a filas y columnas de todos los bloques "
      ]
    },
    {
      "cell_type": "code",
      "execution_count": 41,
      "metadata": {},
      "outputs": [
        {
          "name": "stdout",
          "output_type": "stream",
          "text": [
            "[[ 9 10 11]\n",
            " [12 13 14]\n",
            " [15 16 17]]\n",
            "[[ 3  4  5]\n",
            " [12 13 14]\n",
            " [21 22 23]]\n",
            "[[ 2  5  8]\n",
            " [11 14 17]\n",
            " [20 23 26]]\n"
          ]
        }
      ],
      "source": [
        "#Slicing a 3D Tensor:\n",
        "tensor = np.arange(27).reshape(3, 3, 3)\n",
        "# Slice along the first dimension\n",
        "print(tensor[1]) # Output: 3x3 submatrix\n",
        "# Slice along the second dimension\n",
        "print(tensor[:, 1, :]) # Output: 3x3 matsubrix\n",
        "# Slice along the third dimension\n",
        "print(tensor[:, :, 2]) # Output: 3x3 submatrix"
      ]
    },
    {
      "cell_type": "markdown",
      "metadata": {},
      "source": [
        "## 4D Tensor Indexing:"
      ]
    },
    {
      "cell_type": "markdown",
      "metadata": {},
      "source": [
        "Ejemplo 7. Se crea la misma matriz con la cantidad de valores que indique el comando .arange y con `.reshape` damos indicaciones de cuantos bloques, matrices, filas y columnas respectivamente. para este caso tiene 2 bloques cada uno con 3 matrices y cada matriz esta formada por 2 filas y 4 columnas. entonces cuando se usa el comando `tensor[1, 2, 0, 3]` accedemos a el bloque 1, la matriz 2, la fila 0 y la columna 3 respectivamente."
      ]
    },
    {
      "cell_type": "code",
      "execution_count": 42,
      "metadata": {},
      "outputs": [
        {
          "name": "stdout",
          "output_type": "stream",
          "text": [
            "43\n",
            "[[40 41 42 43]\n",
            " [44 45 46 47]]\n"
          ]
        }
      ],
      "source": [
        "#4D Tensor Indexing:\n",
        "tensor = np.arange(48).reshape(2, 3, 2, 4)\n",
        "# Access specific elements\n",
        "print(tensor[1, 2, 0, 3]) # Output: 47\n",
        "# Access a whole \"block\" (3D sub-tensor)\n",
        "print(tensor[1, 2]) # Output: 2x4x3 sub-tensor"
      ]
    },
    {
      "cell_type": "markdown",
      "metadata": {},
      "source": [
        "## Slicing a 4D Tensor:"
      ]
    },
    {
      "cell_type": "markdown",
      "metadata": {},
      "source": [
        "Ejemplo 8. Se crea la misma matriz con la cantidad de valores que indique el comando `.arange` y con `.reshape` damos indicaciones de cuantos bloques, matrices, filas y columnas hay respectivamente. para este caso tiene `2` bloques cada uno con `3` matrices y cada matriz esta formada por `2 filas` y `4 columnas`. entonces cuando se usa el comando `tensor[:, 2, :, :]` accedemos a todos los bloques, a la matriz `2` de cada bloque y todas las filas y columnas respectivamente."
      ]
    },
    {
      "cell_type": "code",
      "execution_count": 43,
      "metadata": {},
      "outputs": [
        {
          "name": "stdout",
          "output_type": "stream",
          "text": [
            "[[[24 25 26 27]\n",
            "  [28 29 30 31]]\n",
            "\n",
            " [[32 33 34 35]\n",
            "  [36 37 38 39]]\n",
            "\n",
            " [[40 41 42 43]\n",
            "  [44 45 46 47]]]\n",
            "[[[16 17 18 19]\n",
            "  [20 21 22 23]]\n",
            "\n",
            " [[40 41 42 43]\n",
            "  [44 45 46 47]]]\n",
            "[[[ 0  1  2  3]\n",
            "  [ 8  9 10 11]\n",
            "  [16 17 18 19]]\n",
            "\n",
            " [[24 25 26 27]\n",
            "  [32 33 34 35]\n",
            "  [40 41 42 43]]]\n"
          ]
        }
      ],
      "source": [
        "#Slicing a 4D Tensor:\n",
        "tensor = np.arange(48).reshape(2, 3, 2, 4)\n",
        "# Slice along the first dimension\n",
        "print(tensor[1]) # Output: 3x2x4 sub-tensor\n",
        "# Slice along the second dimension\n",
        "print(tensor[:, 2, :, :]) # Output: 2x2x4 sub-tensor\n",
        "# Slice along the third dimension\n",
        "print(tensor[:, :, 0, :]) # Output: 2x3x4 sub-tensor"
      ]
    },
    {
      "cell_type": "markdown",
      "metadata": {},
      "source": [
        "## Matrix Addition:\n"
      ]
    },
    {
      "cell_type": "markdown",
      "metadata": {},
      "source": [
        "EJemplo 9. Se asignan variables A y B y dentro de estas se incluyen matrices de 2x2 y luego se crea una variable result en la cual se le asigna una operación entre matrices. hay que tener en cuenta que esta suma solo se debe realizar si las matrices son de igual tamaño."
      ]
    },
    {
      "cell_type": "code",
      "execution_count": 44,
      "metadata": {},
      "outputs": [
        {
          "name": "stdout",
          "output_type": "stream",
          "text": [
            "[[ 6  8]\n",
            " [10 12]]\n"
          ]
        }
      ],
      "source": [
        "#Matrix Addition:\n",
        "A = np.array([[1, 2], [3, 4]])\n",
        "B = np.array([[5, 6], [7, 8]])\n",
        "result = A + B\n",
        "print(result)"
      ]
    },
    {
      "cell_type": "markdown",
      "metadata": {},
      "source": [
        "## Matrix Multiplication:"
      ]
    },
    {
      "cell_type": "markdown",
      "metadata": {},
      "source": [
        "Ejemplo 10. Se usa el comando .dot para realizar multiplicación en este caso para multiplicación de matrices es decir AxB."
      ]
    },
    {
      "cell_type": "code",
      "execution_count": 45,
      "metadata": {},
      "outputs": [
        {
          "name": "stdout",
          "output_type": "stream",
          "text": [
            "[[19 22]\n",
            " [43 50]]\n"
          ]
        }
      ],
      "source": [
        "#Matrix Multiplication:\n",
        "A = np.array([[1, 2], [3, 4]])\n",
        "B = np.array([[5, 6], [7, 8]])\n",
        "result = np.dot(A, B)\n",
        "print(result)"
      ]
    },
    {
      "cell_type": "markdown",
      "metadata": {},
      "source": [
        "## Transpose of a Matrix:"
      ]
    },
    {
      "cell_type": "markdown",
      "metadata": {},
      "source": [
        "Ejemplo 11. Se usa el comando `.transpose` para encontrar la transpuesta de matrices es decir el cambio de filas por columnas o viceversa en una matriz. es decir los valores si tengo una matriz `3x2` la transpuesta de esa matriz va a resultar una matriz `2x3`.       "
      ]
    },
    {
      "cell_type": "code",
      "execution_count": 46,
      "metadata": {},
      "outputs": [
        {
          "name": "stdout",
          "output_type": "stream",
          "text": [
            "[[1 3]\n",
            " [2 4]]\n"
          ]
        }
      ],
      "source": [
        "#Transpose of a Matrix:\n",
        "A = np.array([[1, 2], [3, 4]])\n",
        "result = np.transpose(A)\n",
        "print(result)"
      ]
    },
    {
      "cell_type": "markdown",
      "metadata": {},
      "source": [
        "##  Matrix Determinant and Inverse:"
      ]
    },
    {
      "cell_type": "markdown",
      "metadata": {},
      "source": [
        "Ejemplo 12. Se usa los comandos `.linalg.det` y `.linalg.inv` para obtener el determinante y la inversa de una matriz respectivamente. "
      ]
    },
    {
      "cell_type": "code",
      "execution_count": 47,
      "metadata": {},
      "outputs": [
        {
          "name": "stdout",
          "output_type": "stream",
          "text": [
            "Determinant: -2.0000000000000004\n",
            "Inverse:\n",
            " [[-2.   1. ]\n",
            " [ 1.5 -0.5]]\n"
          ]
        }
      ],
      "source": [
        "#Matrix Determinant and Inverse:\n",
        "A = np.array([[1, 2], [3, 4]])\n",
        "det = np.linalg.det(A)\n",
        "inverse = np.linalg.inv(A)\n",
        "print(\"Determinant:\", det)\n",
        "print(\"Inverse:\\n\", inverse)"
      ]
    },
    {
      "cell_type": "markdown",
      "metadata": {},
      "source": [
        "## Eigenvalues y Eigenvectors:"
      ]
    },
    {
      "cell_type": "markdown",
      "metadata": {},
      "source": [
        "Ejemplo 13. El código calcula los autovalores y autovectores de la matriz cuadrada `A` utilizando `np.linalg.eig()`, lo cual permite identificar los factores escalares (`eigenvalues`) y las direcciones (`eigenvectors`) que no cambian cuando se aplica la transformación lineal representada por `A`; es decir, encuentra los vectores que solo se escalan (no se rotan) al multiplicarlos por la matriz."
      ]
    },
    {
      "cell_type": "code",
      "execution_count": 48,
      "metadata": {},
      "outputs": [
        {
          "name": "stdout",
          "output_type": "stream",
          "text": [
            "Eigenvalues: [2.00000002 1.99999998]\n",
            "Eigenvectors:\n",
            " [[-0.70710677 -0.70710679]\n",
            " [ 0.70710679  0.70710677]]\n"
          ]
        }
      ],
      "source": [
        "#Eigenvalues and Eigenvectors:\n",
        "A = np.array([[1, -1], [1, 3]])\n",
        "eigenvalues, eigenvectors = np.linalg.eig(A)\n",
        "print(\"Eigenvalues:\", eigenvalues)\n",
        "print(\"Eigenvectors:\\n\", eigenvectors)"
      ]
    },
    {
      "cell_type": "markdown",
      "metadata": {},
      "source": [
        "## Solving Linear Equations:"
      ]
    },
    {
      "cell_type": "markdown",
      "metadata": {},
      "source": [
        "Ejemplo 14. El código resuelve un sistema de ecuaciones lineales de la forma A * x = b utilizando `np.linalg.solve()`, donde `A` es la matriz de coeficientes y `b` es el vector de resultados; la función encuentra el vector `x` que satisface simultáneamente todas las ecuaciones del sistema, proporcionando la solución exacta si la matriz es cuadrada e invertible."
      ]
    },
    {
      "cell_type": "code",
      "execution_count": 49,
      "metadata": {},
      "outputs": [
        {
          "name": "stdout",
          "output_type": "stream",
          "text": [
            "Solution: [1. 1.]\n"
          ]
        }
      ],
      "source": [
        "#Solving Linear Equations:\n",
        "A = np.array([[2, 1], [1, 1]])\n",
        "b = np.array([3, 2])\n",
        "solution = np.linalg.solve(A, b)\n",
        "print(\"Solution:\", solution)"
      ]
    },
    {
      "cell_type": "markdown",
      "metadata": {},
      "source": [
        "## Gradient descent optimization:\n"
      ]
    },
    {
      "cell_type": "markdown",
      "metadata": {},
      "source": [
        "### 15. **Optimización con Descenso de Gradiente**\n",
        "\n",
        "Dado el conjunto de datos \\( X \\) y \\( y \\):\n",
        "\n",
        "$$\n",
        "X =\n",
        "\\begin{bmatrix}\n",
        "x^{(1)} \\\\\n",
        "x^{(2)} \\\\\n",
        "\\vdots \\\\\n",
        "x^{(m)}\n",
        "\\end{bmatrix}\n",
        ",\\quad\n",
        "y =\n",
        "\\begin{bmatrix}\n",
        "y^{(1)} \\\\\n",
        "y^{(2)} \\\\\n",
        "\\vdots \\\\\n",
        "y^{(m)}\n",
        "\\end{bmatrix}\n",
        "$$\n",
        "\n",
        "Donde \\( m \\) es el número de muestras.\n",
        "\n",
        "\n",
        "El modelo de regresión lineal se define como:\n",
        "\n",
        "$$\n",
        "h_\\theta(x) = \\theta_0 + \\theta_1 x\n",
        "$$\n",
        "\n",
        "Agregamos un término de sesgo a las características, creando \\( X_b \\):\n",
        "\n",
        "$$\n",
        "X_b =\n",
        "\\begin{bmatrix}\n",
        "1 & x^{(1)} \\\\\n",
        "1 & x^{(2)} \\\\\n",
        "\\vdots & \\vdots \\\\\n",
        "1 & x^{(m)}\n",
        "\\end{bmatrix}\n",
        "$$\n",
        "\n",
        "\n",
        "\n",
        "El objetivo es minimizar el error cuadrático medio:\n",
        "\n",
        "$$\n",
        "J(\\theta) = \\frac{1}{2m} \\sum_{i=1}^{m} \\left(h_\\theta(x^{(i)}) - y^{(i)}\\right)^2\n",
        "$$\n",
        "\n",
        "El Descenso de Gradiente actualiza los parámetros \\( \\theta \\) usando los gradientes:\n",
        "\n",
        "$$\n",
        "\\theta := \\theta - \\alpha \\nabla J(\\theta)\n",
        "$$\n",
        "\n",
        "Donde \\( \\alpha \\) es la tasa de aprendizaje.\n",
        "\n",
        "El gradiente \\( \\nabla J(\\theta) \\) con respecto a \\( \\theta \\) se calcula como:\n",
        "\n",
        "$$\n",
        "\\nabla J(\\theta) = \\frac{1}{m} X_b^T (X_b \\theta - y)\n",
        "$$\n",
        "\n",
        "Iteramos este proceso durante un número específico de iteraciones.\n",
        "\n",
        "\n",
        "\n",
        "Los parámetros optimizados finales son:\n",
        "$$\n",
        "\\theta =\n",
        "\\begin{bmatrix}\n",
        "\\theta_0 \\\\\n",
        "\\theta_1\n",
        "\\end{bmatrix}\n",
        "$$\n",
        "\n"
      ]
    },
    {
      "cell_type": "markdown",
      "metadata": {},
      "source": [
        "Ejemplo 15. Este código implementa desde cero un modelo de regresión lineal utilizando el método de descenso por gradiente, una técnica fundamental en el aprendizaje automático para encontrar los parámetros óptimos que minimizan una función de costo.\n",
        "A partir de un conjunto de datos sintéticos generado con ruido, el algoritmo ajusta los parámetros $𝜃$ (pendiente e intercepto) mediante actualizaciones iterativas. Se añade un término de sesgo a la matriz de entrada para permitir al modelo aprender tanto el desplazamiento como la inclinación de la recta que mejor se ajusta a los datos.\n",
        "\n",
        "Después de $1000$ iteraciones con una tasa de aprendizaje de $0.1$, el modelo converge hacia los valores verdaderos de la función generadora $(y=4+3x+ruido)$, demostrando la eficacia del descenso por gradiente en la optimización de funciones lineales simples."
      ]
    },
    {
      "cell_type": "code",
      "execution_count": 50,
      "metadata": {},
      "outputs": [
        {
          "name": "stdout",
          "output_type": "stream",
          "text": [
            "Final theta: [[4.22215108]\n",
            " [2.96846751]]\n"
          ]
        },
        {
          "data": {
            "image/png": "[encoded data removed]",
            "text/plain": [
              "<Figure size 640x480 with 1 Axes>"
            ]
          },
          "metadata": {},
          "output_type": "display_data"
        }
      ],
      "source": [
        "# Generate some sample data\n",
        "np.random.seed(0)\n",
        "X = 2 * np.random.rand(100, 1)\n",
        "y = 4 + 3 * X + np.random.randn(100, 1)\n",
        "# Add bias term to X\n",
        "X_b = np.c_[np.ones((100, 1)), X]\n",
        "# Hyperparameters\n",
        "learning_rate = 0.1\n",
        "n_iterations = 1000\n",
        "# Initialize the parameters\n",
        "theta = np.random.randn(2, 1)\n",
        "# Gradient Descent\n",
        "for iteration in range(n_iterations):\n",
        "    gradients = 2 / 100 * X_b.T.dot(X_b.dot(theta) - y)\n",
        "    theta = theta - learning_rate * gradients\n",
        "print(\"Final theta:\", theta)\n",
        "# Predicciones para la línea de regresión\n",
        "X_new = np.array([[0], [2]])\n",
        "X_new_b = np.c_[np.ones((2, 1)), X_new]\n",
        "y_predict = X_new_b.dot(theta)\n",
        "# Graficar\n",
        "plt.plot(X_new, y_predict, \"r-\", label=\"Línea de regresión\")\n",
        "plt.plot(X, y, \"b.\", label=\"Datos\")\n",
        "plt.xlabel(\"X\")\n",
        "plt.ylabel(\"y\")\n",
        "plt.title(\"Regresión lineal con descenso del gradiente\")\n",
        "plt.legend()\n",
        "plt.grid(True)\n",
        "plt.show()"
      ]
    },
    {
      "cell_type": "markdown",
      "metadata": {},
      "source": [
        "# 2 Examples: Python functions and classes"
      ]
    },
    {
      "cell_type": "markdown",
      "metadata": {},
      "source": [
        "Ejemplo 1. Se crea una función llamada greet que recibe un parametro llamado name al recibir este parametro retorna un saludo personalizado concatenando \"Hello, \" con el nombre dado y un signo de exclamación al final. Luego, se llama a la función con el argumento \"Ana\" y se imprime el resultado."
      ]
    },
    {
      "cell_type": "code",
      "execution_count": 51,
      "metadata": {},
      "outputs": [
        {
          "name": "stdout",
          "output_type": "stream",
          "text": [
            "Hello, Ana!\n"
          ]
        }
      ],
      "source": [
        "#Simple Function:\n",
        "def greet(name): \n",
        "    return \"Hello, \" + name+\"!\"\n",
        "print(greet(\"Ana\")) # Output: Hello, Ana!"
      ]
    },
    {
      "cell_type": "markdown",
      "metadata": {},
      "source": [
        "Ejemplo 2. Se crea una función llamada add_numbers que recibe dos parametros a y b respectivamente se hace una operación de suma a esos dos parametros y retorna el resultado de esa operación."
      ]
    },
    {
      "cell_type": "code",
      "execution_count": 52,
      "metadata": {},
      "outputs": [
        {
          "name": "stdout",
          "output_type": "stream",
          "text": [
            "12\n"
          ]
        }
      ],
      "source": [
        "#Function with Parameters and Return:\n",
        "def add_numbers(a, b):\n",
        "    sum = a + b\n",
        "    return sum\n",
        "result = add_numbers(5, 7)\n",
        "print(result) # Output: 12"
      ]
    },
    {
      "cell_type": "markdown",
      "metadata": {},
      "source": [
        "Ejemplo 3. Se crea una función que calcula la potencia de un número. tiene dos parametros base y exponent donde el exponent esta predefinido como =2 es decir la operación siempre se va a elevar a la 2 mientras este valor predeterminado no sea cambiado como es el caso del primer print, solo va hacer cambiada si yo lo requiero. esto permite facilidad y practicidad a la hora de realizar distintas operaciones sin necesidad de cambiar mucho el codigo. "
      ]
    },
    {
      "cell_type": "code",
      "execution_count": 53,
      "metadata": {},
      "outputs": [
        {
          "name": "stdout",
          "output_type": "stream",
          "text": [
            "9\n",
            "8\n"
          ]
        }
      ],
      "source": [
        "#Function with Default Parameter:\n",
        "\n",
        "def power(base, exponent=2):\n",
        "    return base ** exponent\n",
        "print(power(3)) # Output: 9\n",
        "print(power(2, 3)) # Output: 8"
      ]
    },
    {
      "cell_type": "markdown",
      "metadata": {},
      "source": [
        "Ejemplo 4. Se crea una funcion que recibe como parametro numbers el cual retorna el minimo y maximo valor de este. luego se crea una lista y a esa lista la llamo junto a la función para que me encuentre el maximo y minimo de esa lista llamada nums y la guardo en la variable minium, maxium que luego la imprimo y se obtiene como resultado el minimo y maximo valor de la lista nums."
      ]
    },
    {
      "cell_type": "code",
      "execution_count": 54,
      "metadata": {},
      "outputs": [
        {
          "name": "stdout",
          "output_type": "stream",
          "text": [
            "2 9\n"
          ]
        }
      ],
      "source": [
        "#Function with Multiple Returns:\n",
        "def min_max(numbers):\n",
        "    return min(numbers), max(numbers)\n",
        "nums = [4, 9, 2, 7, 5]\n",
        "minimum, maximum = min_max(nums)\n",
        "print(minimum, maximum) # Output: 2 9"
      ]
    },
    {
      "cell_type": "markdown",
      "metadata": {},
      "source": [
        "Ejemplo 5. Se crea una función llamada area_of_rectangle cuyos parametros son largo y ancho y la función lo que hace es calcular el area de un rectangulo dependiendo de los parametros que se le asignen y retorna el resultado."
      ]
    },
    {
      "cell_type": "code",
      "execution_count": 55,
      "metadata": {},
      "outputs": [
        {
          "name": "stdout",
          "output_type": "stream",
          "text": [
            "6\n"
          ]
        }
      ],
      "source": [
        "#Function with Docstring:\n",
        "def area_of_rectangle(length, width):\n",
        "    \"\"\"\n",
        "    Calculates the area of a rectangle.\n",
        "    Args:\n",
        "        length (float): The length of the rectangle.\n",
        "        width (float): The width of the rectangle.\n",
        "    Returns:\n",
        "    float: The area of the rectangle.\n",
        "    \"\"\"\n",
        "    return length * width\n",
        "area= area_of_rectangle(3,2)\n",
        "print (area)"
      ]
    },
    {
      "cell_type": "markdown",
      "metadata": {},
      "source": [
        "Ejemplo 6. El código define una clase llamada `Dog` que modela a un perro con dos atributos: nombre y edad. Al crear una instancia de la clase, el constructor `__init__` inicializa estos valores. Además, la clase incluye un método llamado `bark` que imprime un mensaje indicando que el perro está ladrando. Finalmente, se crea un objeto `dog1` con nombre \"Buddy\" y edad 3, y al llamar a `dog1.bark()`, se muestra el mensaje \"Buddy is barking!\"."
      ]
    },
    {
      "cell_type": "code",
      "execution_count": 56,
      "metadata": {},
      "outputs": [
        {
          "name": "stdout",
          "output_type": "stream",
          "text": [
            "Buddy is barking!\n"
          ]
        }
      ],
      "source": [
        "#Creating a Simple Class:\n",
        "class Dog:\n",
        "    def __init__(self, name, age):\n",
        "        self.name = name\n",
        "        self.age = age\n",
        "    def bark(self):\n",
        "        print(f\"{self.name} is barking!\")\n",
        "# Create an instance of the Dog class\n",
        "dog1 = Dog(\"Buddy\", 3)\n",
        "dog1.bark() # Output: Buddy is barking!"
      ]
    },
    {
      "cell_type": "markdown",
      "metadata": {},
      "source": [
        "Ejemplo 7. Este código define una clase `Student` que representa a un estudiante con nombre, edad y una lista de calificaciones. Permite agregar notas mediante el método `add_grade` y calcular el promedio de las calificaciones con `get_average_grade`. Se crea una instancia del estudiante llamado \"Alice\", se le asignan dos notas (85 y 92), y luego se imprime su promedio."
      ]
    },
    {
      "cell_type": "code",
      "execution_count": 57,
      "metadata": {},
      "outputs": [
        {
          "name": "stdout",
          "output_type": "stream",
          "text": [
            "Alice’s average grade: 88.5\n"
          ]
        }
      ],
      "source": [
        "#Adding Methods and Attributes\n",
        "class Student:\n",
        "    def __init__(self, name, age):\n",
        "        self.name = name\n",
        "        self.age = age\n",
        "        self.grades = []\n",
        "    def add_grade(self, grade):\n",
        "        self.grades.append(grade)\n",
        "    def get_average_grade(self):\n",
        "        return sum(self.grades) / len(self.grades)\n",
        "# Create a Student instance and add grades\n",
        "student1 = Student(\"Alice\", 18)\n",
        "student1.add_grade(85)\n",
        "student1.add_grade(92)\n",
        "average_grade = student1.get_average_grade()\n",
        "print(f\"{student1.name}’s average grade: {average_grade}\")"
      ]
    },
    {
      "cell_type": "markdown",
      "metadata": {},
      "source": [
        "## 3 Exercise\n",
        "Para este apartado se resolveran todos los ejercicios planteados en el documento taller 1 [Material NumPy - Ejercicios y Ejemplos](https://drive.google.com/drive/u/1/folders/15X399KrWXIGp1qvD1B5LMBnqcFswEn96). Lo ejercicios se resolveran todos en su orden asignado es decir en la parte superior de cada consola estara el inciso seguido de la solución se debe tener en cuenta que para poder visualizar la respuesta es necesario ejecutar el codigo de la consola. \n"
      ]
    },
    {
      "cell_type": "markdown",
      "metadata": {},
      "source": [
        "# 3.1 Indexing Arrays in NumPy\n",
        "1. Given the NumPy array $arr = np.array([3, 7, 1, 9, 5])$, perform\n",
        "the following indexing operations:\n",
        "\n",
        "    a) Retrieve the third element of the array.\n",
        "\n",
        "    b) Slice the array to get elements from index 1 to index 3.\n",
        "        \n",
        "    c) Change the value of the fourth element to 12."
      ]
    },
    {
      "cell_type": "code",
      "execution_count": 58,
      "metadata": {},
      "outputs": [
        {
          "name": "stdout",
          "output_type": "stream",
          "text": [
            "EL valor del elemento 3 de la matriz es:  9\n",
            "Los valores del indice 1 al 3 son:  [7 1 9]\n",
            "[ 3  7  1 12  5]\n"
          ]
        }
      ],
      "source": [
        "arr = np.array([3, 7, 1, 9, 5])\n",
        "# Inciso a\n",
        "print (\"EL valor del elemento 3 de la matriz es: \", arr[3])\n",
        "# Inciso b\n",
        "print(\"Los valores del indice 1 al 3 son: \",arr[1:4])\n",
        "# Inciso c\n",
        "arr[3]=12\n",
        "print(arr)"
      ]
    },
    {
      "cell_type": "markdown",
      "metadata": {},
      "source": [
        "2. Create a 2D NumPy array matrix with the following values:\n",
        "\n",
        "[1 2 3\n",
        "\n",
        "4 5 6\n",
        "\n",
        "7 8 9]\n",
        "\n",
        "\n",
        "a) Retrieve the element in the second row and third column.\n",
        "\n",
        "b) Slice the matrix to get the submatrix consisting of the first two rows\n",
        "and all columns."
      ]
    },
    {
      "cell_type": "code",
      "execution_count": 59,
      "metadata": {},
      "outputs": [
        {
          "name": "stdout",
          "output_type": "stream",
          "text": [
            " a) El elemento de la segunda fila y tercera columna es :  9\n",
            " b) la submatriz que consta de las dos primeras filas y todas las columnas es : [[1 2 3]\n",
            " [4 5 6]]\n"
          ]
        }
      ],
      "source": [
        "matriz=np.array([[1, 2, 3], [4, 5, 6], [7, 8, 9]])\n",
        "print(\" a) El elemento de la segunda fila y tercera columna es : \",matriz[2, 2])\n",
        "print(\" b) la submatriz que consta de las dos primeras filas y todas las columnas es :\",matriz[:2, :3])"
      ]
    },
    {
      "cell_type": "markdown",
      "metadata": {},
      "source": [
        "# 3.2 Indexing and Slicing Higher-Dimensional Tensors\n",
        "Consider the following 3D tensor representing a stack of matrices:\n",
        "\n",
        "tensor =\n",
        "\n",
        "1 2 3 4\n",
        "5 6 7 8\n",
        "9 10 11 12\n",
        " ,\n",
        "\n",
        "13 14 15 16\n",
        "17 18 19 20\n",
        "21 22 23 24\n",
        ",\n",
        "\n",
        "25 26 27 28\n",
        "29 30 31 32\n",
        "33 34 35 36\n",
        "\n",
        "1. Retrieve the element at the position (1, 0, 2) within the tensor.\n",
        "2. Slice the tensor to obtain the 3 × 4 sub-tensor that corresponds to the\n",
        "second “matrix” (slice) along the first dimension.\n",
        "3. Slice the tensor to obtain the 2×4 sub-tensor that corresponds to the last\n",
        "row of the last two “matrices.”\n",
        "4. Retrieve the element at the position (2, 1, 3) within the tensor.\n",
        "5. Slice the tensor to obtain the 2×4 sub-tensor that corresponds to the first\n",
        "row of the las two “matrices.”\n",
        "Hint: Remember that in NumPy indexing, the first index corresponds to the\n",
        "outermost dimension, the second index corresponds to the next inner dimension,\n",
        "and so on.\n",
        "\"## Hola\""
      ]
    },
    {
      "cell_type": "code",
      "execution_count": 60,
      "metadata": {},
      "outputs": [
        {
          "name": "stdout",
          "output_type": "stream",
          "text": [
            "15\n",
            "[[13 14 15 16]\n",
            " [17 18 19 20]\n",
            " [21 22 23 24]]\n",
            "[[21 22 23 24]\n",
            " [33 34 35 36]]\n",
            "32\n",
            "[[ 1  2  3  4]\n",
            " [13 14 15 16]]\n"
          ]
        }
      ],
      "source": [
        "import numpy as np\n",
        "\n",
        "tensor = np.array([\n",
        "    [  # Primera matriz\n",
        "        [1, 2, 3, 4],\n",
        "        [5, 6, 7, 8],\n",
        "        [9, 10, 11, 12]\n",
        "    ],\n",
        "    [  # Segunda matriz\n",
        "        [13, 14, 15, 16],\n",
        "        [17, 18, 19, 20],\n",
        "        [21, 22, 23, 24]\n",
        "    ],\n",
        "    [  # Tercera matriz\n",
        "        [25, 26, 27, 28],\n",
        "        [29, 30, 31, 32],\n",
        "        [33, 34, 35, 36]\n",
        "    ]\n",
        "])\n",
        "\n",
        "print(tensor[1,0,2])#a\n",
        "print(tensor[1])#b\n",
        "print(tensor[1:, 2, : ])#c\n",
        "print(tensor[2,1,3])#d\n",
        "print(tensor[:2, 0, : ])#e"
      ]
    },
    {
      "cell_type": "markdown",
      "metadata": {},
      "source": [
        "# 3.3 Defining Functions in Python\n",
        "1. Write a Python function calculate average that takes a list of numbers\n",
        "as input and returns the average of those numbers.\n",
        "2. Define a function find power that calculates the result of a number raised\n",
        "to a given exponent. The function should have two parameters: base (the\n",
        "base number) and exponent (default value should be 2)."
      ]
    },
    {
      "cell_type": "code",
      "execution_count": 61,
      "metadata": {},
      "outputs": [
        {
          "name": "stdout",
          "output_type": "stream",
          "text": [
            "El promedio de notas de la asignatura de español es : 3.4\n",
            "1\n"
          ]
        }
      ],
      "source": [
        "#1\n",
        "notas_español=[1,2,3,5, 6]\n",
        "def promedio(notas):\n",
        "    if len (notas) == 0:\n",
        "        return 0\n",
        "    return sum(notas) / len(notas)\n",
        "\n",
        "total=promedio(notas_español)\n",
        "print (\"El promedio de notas de la asignatura de español es :\", total)\n",
        "#2\n",
        "\n",
        "def funcion(base, exponente=2):\n",
        "    return base**exponente\n",
        "resul=funcion(1)\n",
        "print(resul)"
      ]
    },
    {
      "cell_type": "markdown",
      "metadata": {},
      "source": [
        "# 3.4 Implementación de la optimización del descenso de gradiente\n",
        "1. Considere el problema de regresión lineal en el que tiene los siguientes datos\n",
        "Puntos:\n",
        "$$\n",
        "X = [1, 2, 3, 4, 5]\n",
        "$$\n",
        "\n",
        "$$\n",
        "y = [3, 6, 8, 11, 13]\n",
        "$$\n",
        "\n",
        "Implemente un programa de Python usando NumPy para realizar descenso de gradiente\n",
        "Optimización para encontrar los parámetros $θ0$ y $θ1$ para la regresión lineal\n",
        "Modelo $Hθ(x) = θ0 + θ1x$. Utilice una tasa de aprendizaje de $0,01$ e itere para $1000$\n",
        "Pasos.\n",
        "2. Dibuje en un gráfico el progreso de los parámetros $θ0$ y $θ1$ a través de los pasos.\n",
        "3. Explique con sus propias palabras el propósito de la tasa de aprendizaje en gradiente Optimización de descenso."
      ]
    },
    {
      "cell_type": "code",
      "execution_count": 62,
      "metadata": {},
      "outputs": [
        {
          "name": "stdout",
          "output_type": "stream",
          "text": [
            "Final theta: [0.75169164 2.48568225]\n",
            "1.8687618665462773\n"
          ]
        },
        {
          "data": {
            "image/png": "[encoded data removed]",
            "text/plain": [
              "<Figure size 640x480 with 1 Axes>"
            ]
          },
          "metadata": {},
          "output_type": "display_data"
        },
        {
          "data": {
            "image/png": "[encoded data removed]",
            "text/plain": [
              "<Figure size 640x480 with 1 Axes>"
            ]
          },
          "metadata": {},
          "output_type": "display_data"
        }
      ],
      "source": [
        "# Generate some sample data\n",
        "np.random.seed(0)\n",
        "X = [1,2,3,4,5]\n",
        "y = [3,6,8,11,13]\n",
        "# Add bias term to X\n",
        "X_b = np.c_[np.ones((5, 1)), X]\n",
        "\n",
        "# Hyperparameters\n",
        "learning_rate = 0.01\n",
        "n_iterations = 1000\n",
        "# Initialize the parameters\n",
        "theta = np.random.randn(2)\n",
        "# Gradient Descent\n",
        "\n",
        "theta_0=[]\n",
        "theta_1=[]\n",
        "for iteration in range(n_iterations):\n",
        "    gradients = 2 / 5 * X_b.T.dot(X_b.dot(theta) - y)\n",
        "    theta = theta - learning_rate * gradients\n",
        "    theta_0.append(theta[0])\n",
        "    theta_1.append(theta[1])\n",
        "    \n",
        "print(\"Final theta:\", theta)\n",
        "print(theta_0[0])\n",
        "# Predicciones para la línea de regresión\n",
        "X_new = np.array([[0], [5]])\n",
        "X_new_b = np.c_[np.ones((2, 1)), X_new]\n",
        "y_predict = X_new_b.dot(theta)\n",
        "# Graficar\n",
        "plt.plot(X_new, y_predict, \"r-\", label=\"Línea de regresión\")\n",
        "plt.plot(X, y, \"b.\", label=\"Datos\")\n",
        "plt.xlabel(\"X\")\n",
        "plt.ylabel(\"y\")\n",
        "plt.title(\"Regresión lineal con descenso del gradiente\")\n",
        "plt.legend()\n",
        "plt.grid(True)\n",
        "plt.show()\n",
        "\n",
        "# Graficar evolución de los parámetros\n",
        "plt.plot(theta_0, label='θ0')\n",
        "plt.plot(theta_1, label='θ1')\n",
        "plt.xlabel(\"Iteración\")\n",
        "plt.ylabel(\"Valor del parámetro\")\n",
        "plt.title(\"Progreso de θ0 y θ1 durante el descenso por gradiente\")\n",
        "plt.legend()\n",
        "plt.grid(True)\n",
        "plt.show()"
      ]
    },
    {
      "cell_type": "markdown",
      "metadata": {},
      "source": [
        "---\n",
        "\n",
        "**Justificación:**\n",
        "\n",
        "La tasa de aprendizaje (learning rate) controla qué tan grandes son los pasos que da el modelo al ajustar sus parámetros durante el descenso por gradiente. Si es muy alta, el modelo puede volverse inestable; si es muy baja, el aprendizaje será muy lento. En el código, esta tasa permite que los parámetros `θ0` y `θ1` se ajusten gradualmente para encontrar la mejor línea de regresión que minimiza el error entre las predicciones y los datos reales.\n",
        "\n",
        "---\n"
      ]
    }
  ],
  "metadata": {
    "colab": {
      "provenance": []
    },
    "kernelspec": {
      "display_name": "Python 3",
      "name": "python3"
    },
    "language_info": {
      "codemirror_mode": {
        "name": "ipython",
        "version": 3
      },
      "file_extension": ".py",
      "mimetype": "text/x-python",
      "name": "python",
      "nbconvert_exporter": "python",
      "pygments_lexer": "ipython3",
      "version": "3.13.2"
    }
  },
  "nbformat": 4,
  "nbformat_minor": 0
}
